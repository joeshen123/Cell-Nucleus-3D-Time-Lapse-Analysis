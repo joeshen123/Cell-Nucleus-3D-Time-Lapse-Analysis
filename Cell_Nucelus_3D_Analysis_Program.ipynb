{
 "cells": [
  {
   "cell_type": "markdown",
   "metadata": {},
   "source": [
    "# Analysis Work Flow of Nucleus Segmentation, Tracking and Visualization \n",
    "\n",
    "This notebook contains the workflow for tracking Cell nucelus protein binding intensities and geometries (e.g. Volume) in time-lapse movie.\n",
    "\n",
    "Key steps of the workflows:\n",
    "\n",
    "* Auto-Contrast intensity normalization\n",
    "* 3D Gaussian smoothing \n",
    "* Masked-object Thresholding\n",
    "* Watershed to remove merged objects\n",
    "* Using trackpy to link frames\n",
    "* Visualize segmentation and tracking results\n",
    "* Plotting volume and protein binding changes as a function of time \n",
    "* Export data and statistics table\n",
    "\n"
   ]
  },
  {
   "cell_type": "markdown",
   "metadata": {},
   "source": [
    "## Loading Required Libraries"
   ]
  },
  {
   "cell_type": "code",
   "execution_count": 23,
   "metadata": {},
   "outputs": [],
   "source": [
    "import numpy as np\n",
    "\n",
    "import matplotlib.pyplot as plt\n",
    "plt.rcParams[\"figure.figsize\"] = [16, 12]\n",
    "\n",
    "from aicssegmentation.core.pre_processing_utils import intensity_normalization, image_smoothing_gaussian_3d\n",
    "from skimage.morphology import remove_small_objects, binary_closing, ball, disk, erosion, dilation   # function for post-processing (size filter)\n",
    "from aicssegmentation.core.MO_threshold import MO\n",
    "from aicssegmentation.core.utils import get_middle_frame, get_3dseed_from_mid_frame\n",
    "from skimage import transform, measure\n",
    "import h5py\n",
    "from tqdm import tqdm\n",
    "from pandas import DataFrame\n",
    "import pandas as pd\n",
    "import warnings\n",
    "import h5py\n",
    "from skimage.segmentation import watershed\n",
    "from skimage.morphology import dilation, ball\n",
    "from skimage.measure import label\n",
    "from scipy.ndimage import distance_transform_edt\n",
    "from aicssegmentation.core.utils import hole_filling\n",
    "import trackpy as tp"
   ]
  },
  {
   "cell_type": "markdown",
   "metadata": {},
   "source": [
    "## Loading Data, loading Visualization Platform and make some background functions"
   ]
  },
  {
   "cell_type": "code",
   "execution_count": 2,
   "metadata": {},
   "outputs": [],
   "source": [
    "FILE_NAME = \"Z://Niethammer Lab//Joe//Research Project//Cell Swelling Experiment//20201105 Cell Swelling Experiment//20201105 A549 cPla2 C2 Alox12 80% shock 1um Iono_1.hdf5\"\n",
    "f = h5py.File(FILE_NAME, 'r')\n",
    "\n",
    "image = f['561 Channel'][:]\n"
   ]
  },
  {
   "cell_type": "code",
   "execution_count": 3,
   "metadata": {},
   "outputs": [],
   "source": [
    "import napari\n",
    "%gui qt"
   ]
  },
  {
   "cell_type": "code",
   "execution_count": 4,
   "metadata": {},
   "outputs": [],
   "source": [
    "#Make a mask to clear border\n",
    "from skimage.segmentation import clear_border\n",
    "mask = np.ones(image[0].shape)\n",
    "\n",
    "for n in range(mask.shape[0]):\n",
    "   im_slice = mask[n,:,:]\n",
    "   im_slice[0,:] = 0\n",
    "   im_slice[:,0] = 0\n",
    "   im_slice[:,-1] = 0\n",
    "   im_slice[-1,:] = 0\n",
    "\n",
    "mask = mask.astype(np.bool)\n"
   ]
  },
  {
   "cell_type": "code",
   "execution_count": 5,
   "metadata": {},
   "outputs": [],
   "source": [
    "# Make a function to get middle frame based on segmented area\n",
    "def get_middle_frame_area(labelled_image_stack):\n",
    "    max_area = 0\n",
    "    max_n = 0\n",
    "    for z in range(labelled_image_stack.shape[0]):\n",
    "       img_slice = labelled_image_stack[z,:,:]\n",
    "       area = np.count_nonzero(img_slice)\n",
    "       \n",
    "       if area >= max_area:\n",
    "          max_area = area\n",
    "          max_n = z\n",
    "    \n",
    "    return max_n"
   ]
  },
  {
   "cell_type": "markdown",
   "metadata": {},
   "source": [
    "## Make the 3D Cell Segmentation Pipeline \n",
    "\n",
    "This segmentation pipeline has two parts. The first part is image normalization and smoothing. The second part is image segmentation\n",
    "\n",
    "* First Part: We first apply intensity normalization and 3D Gaussian Smooth on one time point. Then we propagate to all time points. Both functions are developed by Allen Institute Segmenter. <br /> <br /> \n",
    "Link: https://github.com/AllenInstitute/aics-segmentation\n",
    "<br /> <br /> \n",
    "* Second Part: We first apply Mask-Object thresholding (MO) and Watershed on one time point. In brief, MO algorithm firstly applies low threshoding (e.g. median thresholding) to roughly mask out each object. Then apply high thresholding (e.g. Ostu thresholding) within each individual object. This way it can account intensity varaiation from cell to cell. Watershed here is to seperate falsely merged object. Both algorithms are developed by Allen Segmenter. Then we propogate to all time points. \n",
    "\n"
   ]
  },
  {
   "cell_type": "code",
   "execution_count": 6,
   "metadata": {},
   "outputs": [],
   "source": [
    "# Initiate the cell segmentation class\n",
    "from skimage import filters\n",
    "class cell_segment:\n",
    "    def __init__ (self, Time_lapse_image, intensity_scaling_param = [40000], gaussian_smoothing_sigma = 1 ):\n",
    "        self.image = Time_lapse_image.copy()\n",
    "        self.Time_pts = Time_lapse_image.shape[0]\n",
    "        \n",
    "        self.normalization_param = intensity_scaling_param\n",
    "        self.smooth_param = gaussian_smoothing_sigma\n",
    "        \n",
    "        self.structure_img_smooth = np.zeros(self.image.shape, dtype = np.float64)\n",
    "        self.structure_img = np.zeros(self.image.shape, dtype = np.float64)\n",
    "        self.segmented_object_image = np.zeros(self.image.shape, dtype = np.uint8)\n",
    "        \n",
    "        self.watershed_map_list = np.zeros(self.image.shape, dtype = np.uint8)\n",
    "        self.seed_map_list = np.zeros(self.image.shape, dtype = np.uint8)\n",
    "        \n",
    "        \n",
    "    # define a function to apply normalization and smooth on Time lapse images\n",
    "    def img_norm_smooth (self):\n",
    "        for t in tqdm(range(self.Time_pts)):\n",
    "            img = self.image[t].copy()\n",
    "            self.structure_img[t] = intensity_normalization(img, scaling_param=self.normalization_param)\n",
    "            self.structure_img_smooth[t] = image_smoothing_gaussian_3d(self.structure_img[t], sigma=self.smooth_param)\n",
    "        \n",
    "   # define a function to apply Masked Object thresholding followed by seed-based watershed to each time point\n",
    "    def MO_threshold_Time (self):\n",
    "        for t in tqdm(range(self.Time_pts)):\n",
    "            bw, object_for_debug = MO(self.structure_img_smooth[t], global_thresh_method='ave', object_minArea=10000, return_object=True,extra_criteria=True)\n",
    "            bw = hole_filling(bw, 1, 5000, fill_2d=True)\n",
    "            mid_z = get_middle_frame(bw, method='intensity')\n",
    "            bw_mid_z = bw[mid_z,:,:]\n",
    "            seed = get_3dseed_from_mid_frame(bw_mid_z, bw.shape, mid_z, hole_min=3000,bg_seed=False)\n",
    "            watershed_map = -1*distance_transform_edt(bw)\n",
    "            seg = watershed(watershed_map, markers=label(seed), mask=bw, watershed_line=True)\n",
    "            seg = clear_border(seg, mask = mask)\n",
    "            \n",
    "            seg = remove_small_objects(seg>0, min_size=10000, connectivity=1, in_place=False)\n",
    "            seg = hole_filling(seg, 1, 40000, fill_2d=True)\n",
    "            #final_seg = segmentation_quick_view(seg)\n",
    "            \n",
    "            final_seg = label(seg)\n",
    "            \n",
    "            self.segmented_object_image[t] = final_seg\n",
    "            self.watershed_map_list[t] = watershed_map\n",
    "            self.seed_map_list[t] = seed\n",
    "        "
   ]
  },
  {
   "cell_type": "markdown",
   "metadata": {},
   "source": [
    "## 3D Cell Segmentation in Timelapse"
   ]
  },
  {
   "cell_type": "code",
   "execution_count": 7,
   "metadata": {},
   "outputs": [
    {
     "name": "stderr",
     "output_type": "stream",
     "text": [
      "100%|██████████████████████████████████████████| 70/70 [00:48<00:00,  1.45it/s]\n",
      "  0%|                                                   | 0/70 [00:00<?, ?it/s]<string>:6: RuntimeWarning: Converting input from bool to <class 'numpy.uint8'> for compatibility.\n",
      "100%|██████████████████████████████████████████| 70/70 [09:29<00:00,  8.13s/it]\n"
     ]
    }
   ],
   "source": [
    "track = cell_segment(image)\n",
    "track.img_norm_smooth()\n",
    "track.MO_threshold_Time()\n"
   ]
  },
  {
   "cell_type": "code",
   "execution_count": 8,
   "metadata": {},
   "outputs": [],
   "source": [
    "viewer = napari.Viewer()\n",
    "viewer.add_image(image, scale = [1,5,1,1])\n",
    "viewer.add_image(track.segmented_object_image>0 ,name='Segmented Object', scale = [1,5,1,1])\n",
    "peaks = np.nonzero(track.seed_map_list)\n",
    "viewer.add_points(np.array(peaks).T, name='peaks', size=5, face_color='red',scale=[1,5,1,1]);"
   ]
  },
  {
   "cell_type": "markdown",
   "metadata": {},
   "source": [
    "## Quantify Nucleus Geometry (e.g. Volume) and Protein binding over time\n",
    "<br /> \n",
    "**Cell_attribute class has two parts. The first part is to 3D smooth the image stack that needs to be quantified for protein binding. The second part is to make a table that store all information (e.g. Volume, Protein binding).**"
   ]
  },
  {
   "cell_type": "code",
   "execution_count": 43,
   "metadata": {},
   "outputs": [],
   "source": [
    "# Initiate the cell attribute class\n",
    "\n",
    "class cell_attribute:\n",
    "    def __init__ (self, segmented_image_seq, intensity_image_stack, smooth_sigma = 1.0):\n",
    "        self.labeled_stack = segmented_image_seq\n",
    "        self.positions_table = None\n",
    "        self.intensity_image_stack_raw = intensity_image_stack\n",
    "        self.intensity_image_stack = np.zeros(intensity_image_stack.shape)\n",
    "        self.labeled_stack_modify = self.labeled_stack.copy()\n",
    "        self.smooth_sigma = smooth_sigma\n",
    "        self.mid_slice_stack = np.zeros(intensity_image_stack.shape)\n",
    "    # Function to 3D gaussian smooth intesnity image stack\n",
    "    def intensity_stack_smooth (self):\n",
    "        for t in tqdm(range(self.intensity_image_stack.shape[0])):\n",
    "          img = self.intensity_image_stack_raw[t].copy()\n",
    "          self.intensity_image_stack[t] = image_smoothing_gaussian_3d(img, sigma=self.smooth_sigma)\n",
    "            \n",
    "    # function to create pandas table of cell attributes without tracking info\n",
    "    def create_table_regions(self):\n",
    "\n",
    "        positions = []\n",
    "\n",
    "        for n in tqdm(range(0,self.labeled_stack.shape[0])):\n",
    "            labeled_slice = self.labeled_stack[n]\n",
    "    \n",
    "            for region in measure.regionprops(labeled_slice):\n",
    "                position = []\n",
    "\n",
    "                z_pos = region.centroid[0]\n",
    "                y_row = region.centroid[1]\n",
    "                x_col = region.centroid[2]\n",
    "\n",
    "                volume = region.area * (0.19*0.19*1)\n",
    "\n",
    "                nucleus_image = labeled_slice == region.label\n",
    "                mid_z = get_middle_frame_area(nucleus_image)\n",
    "                \n",
    "                mid_nucleus_image = nucleus_image[mid_z,:,:]\n",
    "                \n",
    "                segmented_image_shell= np.logical_xor(mid_nucleus_image,erosion(mid_nucleus_image, selem=disk(6)))\n",
    "                 \n",
    "                \n",
    "                label = region.label\n",
    "                intensity_single = self.intensity_image_stack[n]\n",
    "                intensity_image = intensity_single[mid_z]\n",
    "                intensity_median = np.median(intensity_image[segmented_image_shell==True])\n",
    "\n",
    "                intensity_background = np.median(self.intensity_image_stack[n][int(mid_z),int(y_row),int(x_col)])\n",
    "\n",
    "                intensity_median_ratio = intensity_median / intensity_background\n",
    "\n",
    "                position.append(x_col)\n",
    "                position.append(y_row)\n",
    "                position.append(z_pos)\n",
    "                position.append(int(n))\n",
    "                position.append(label)\n",
    "\n",
    "\n",
    "                position.append(volume)\n",
    "                #position.append(surface_area_actual)\n",
    "                position.append(intensity_median_ratio)\n",
    "\n",
    "                positions.append(position)\n",
    "                \n",
    "                self.mid_slice_stack[n,mid_z,:,:] += segmented_image_shell\n",
    "                self.mid_slice_stack[n,mid_z,int(y_row),int(x_col)] = 1\n",
    "                \n",
    "        self.positions_table  = DataFrame(positions, columns = ['x','y','z',\"frame\",'label','volume', 'median intensity ratio'])\n",
    "\n",
    "    \n",
    "\n",
    "    "
   ]
  },
  {
   "cell_type": "markdown",
   "metadata": {},
   "source": [
    "## Store attributes in table"
   ]
  },
  {
   "cell_type": "code",
   "execution_count": 44,
   "metadata": {},
   "outputs": [
    {
     "name": "stderr",
     "output_type": "stream",
     "text": [
      "100%|██████████████████████████████████████████| 70/70 [00:37<00:00,  1.87it/s]\n",
      "100%|██████████████████████████████████████████| 70/70 [00:30<00:00,  2.27it/s]\n"
     ]
    }
   ],
   "source": [
    "Segment_tracker = cell_attribute(track.segmented_object_image,image)\n",
    "Segment_tracker.intensity_stack_smooth()\n",
    "Segment_tracker.create_table_regions()"
   ]
  },
  {
   "cell_type": "markdown",
   "metadata": {},
   "source": [
    "## Look at the table\n",
    "<br />\n",
    "\n",
    "**x: x coordinate of centroid**\n",
    "<br />\n",
    "\n",
    "**y: y coordinate of centroid**\n",
    "<br />\n",
    "\n",
    "**z: z coordinate of centroid**\n",
    "<br />\n",
    "\n",
    "**frame: frame number in the time lapse**\n",
    "<br />\n",
    "\n",
    "**label: object ID generated by segmentation (It is not tracking ID)**\n",
    "<br />\n",
    "\n",
    "**volume: object volume in um^3**\n",
    "<br />\n",
    "\n",
    "**median intensity ratio: The intensity of object(cell) rim / intensity of centroid**"
   ]
  },
  {
   "cell_type": "code",
   "execution_count": 45,
   "metadata": {},
   "outputs": [
    {
     "data": {
      "text/html": [
       "<div>\n",
       "<style scoped>\n",
       "    .dataframe tbody tr th:only-of-type {\n",
       "        vertical-align: middle;\n",
       "    }\n",
       "\n",
       "    .dataframe tbody tr th {\n",
       "        vertical-align: top;\n",
       "    }\n",
       "\n",
       "    .dataframe thead th {\n",
       "        text-align: right;\n",
       "    }\n",
       "</style>\n",
       "<table border=\"1\" class=\"dataframe\">\n",
       "  <thead>\n",
       "    <tr style=\"text-align: right;\">\n",
       "      <th></th>\n",
       "      <th>x</th>\n",
       "      <th>y</th>\n",
       "      <th>z</th>\n",
       "      <th>frame</th>\n",
       "      <th>label</th>\n",
       "      <th>volume</th>\n",
       "      <th>median intensity ratio</th>\n",
       "    </tr>\n",
       "  </thead>\n",
       "  <tbody>\n",
       "    <tr>\n",
       "      <th>0</th>\n",
       "      <td>340.587434</td>\n",
       "      <td>148.836281</td>\n",
       "      <td>5.341885</td>\n",
       "      <td>0</td>\n",
       "      <td>1</td>\n",
       "      <td>1839.1867</td>\n",
       "      <td>0.803965</td>\n",
       "    </tr>\n",
       "    <tr>\n",
       "      <th>1</th>\n",
       "      <td>150.941229</td>\n",
       "      <td>198.194205</td>\n",
       "      <td>5.889776</td>\n",
       "      <td>0</td>\n",
       "      <td>2</td>\n",
       "      <td>1573.7073</td>\n",
       "      <td>1.068565</td>\n",
       "    </tr>\n",
       "    <tr>\n",
       "      <th>2</th>\n",
       "      <td>293.432128</td>\n",
       "      <td>273.572826</td>\n",
       "      <td>5.795461</td>\n",
       "      <td>0</td>\n",
       "      <td>3</td>\n",
       "      <td>1719.5874</td>\n",
       "      <td>0.782198</td>\n",
       "    </tr>\n",
       "    <tr>\n",
       "      <th>3</th>\n",
       "      <td>340.192583</td>\n",
       "      <td>148.802385</td>\n",
       "      <td>5.788964</td>\n",
       "      <td>1</td>\n",
       "      <td>1</td>\n",
       "      <td>1807.5992</td>\n",
       "      <td>0.837488</td>\n",
       "    </tr>\n",
       "    <tr>\n",
       "      <th>4</th>\n",
       "      <td>150.714541</td>\n",
       "      <td>198.939607</td>\n",
       "      <td>6.131501</td>\n",
       "      <td>1</td>\n",
       "      <td>2</td>\n",
       "      <td>1613.9227</td>\n",
       "      <td>1.030524</td>\n",
       "    </tr>\n",
       "  </tbody>\n",
       "</table>\n",
       "</div>"
      ],
      "text/plain": [
       "            x           y         z  frame  label     volume  \\\n",
       "0  340.587434  148.836281  5.341885      0      1  1839.1867   \n",
       "1  150.941229  198.194205  5.889776      0      2  1573.7073   \n",
       "2  293.432128  273.572826  5.795461      0      3  1719.5874   \n",
       "3  340.192583  148.802385  5.788964      1      1  1807.5992   \n",
       "4  150.714541  198.939607  6.131501      1      2  1613.9227   \n",
       "\n",
       "   median intensity ratio  \n",
       "0                0.803965  \n",
       "1                1.068565  \n",
       "2                0.782198  \n",
       "3                0.837488  \n",
       "4                1.030524  "
      ]
     },
     "execution_count": 45,
     "metadata": {},
     "output_type": "execute_result"
    }
   ],
   "source": [
    "# Have a look at the table\n",
    "table= Segment_tracker.positions_table\n",
    "\n",
    "\n",
    "table.head()"
   ]
  },
  {
   "cell_type": "markdown",
   "metadata": {},
   "source": [
    "## Linking Frames in Time-Lapse Movie\n",
    "\n",
    "* Use Trackpy to track and link consecutive frames. Remove tracks that does not meet minimum frames\n",
    "* Add another **particle** column to record tracking ID"
   ]
  },
  {
   "cell_type": "code",
   "execution_count": 61,
   "metadata": {},
   "outputs": [
    {
     "name": "stdout",
     "output_type": "stream",
     "text": [
      "Frame 69: 3 trajectories present.\n"
     ]
    },
    {
     "data": {
      "text/html": [
       "<div>\n",
       "<style scoped>\n",
       "    .dataframe tbody tr th:only-of-type {\n",
       "        vertical-align: middle;\n",
       "    }\n",
       "\n",
       "    .dataframe tbody tr th {\n",
       "        vertical-align: top;\n",
       "    }\n",
       "\n",
       "    .dataframe thead th {\n",
       "        text-align: right;\n",
       "    }\n",
       "</style>\n",
       "<table border=\"1\" class=\"dataframe\">\n",
       "  <thead>\n",
       "    <tr style=\"text-align: right;\">\n",
       "      <th></th>\n",
       "      <th>x</th>\n",
       "      <th>y</th>\n",
       "      <th>z</th>\n",
       "      <th>frame</th>\n",
       "      <th>label</th>\n",
       "      <th>volume</th>\n",
       "      <th>median intensity ratio</th>\n",
       "      <th>particle</th>\n",
       "    </tr>\n",
       "    <tr>\n",
       "      <th>frame</th>\n",
       "      <th></th>\n",
       "      <th></th>\n",
       "      <th></th>\n",
       "      <th></th>\n",
       "      <th></th>\n",
       "      <th></th>\n",
       "      <th></th>\n",
       "      <th></th>\n",
       "    </tr>\n",
       "  </thead>\n",
       "  <tbody>\n",
       "    <tr>\n",
       "      <th>0</th>\n",
       "      <td>340.587434</td>\n",
       "      <td>148.836281</td>\n",
       "      <td>5.341885</td>\n",
       "      <td>0</td>\n",
       "      <td>1</td>\n",
       "      <td>1839.1867</td>\n",
       "      <td>0.803965</td>\n",
       "      <td>0</td>\n",
       "    </tr>\n",
       "    <tr>\n",
       "      <th>0</th>\n",
       "      <td>150.941229</td>\n",
       "      <td>198.194205</td>\n",
       "      <td>5.889776</td>\n",
       "      <td>0</td>\n",
       "      <td>2</td>\n",
       "      <td>1573.7073</td>\n",
       "      <td>1.068565</td>\n",
       "      <td>1</td>\n",
       "    </tr>\n",
       "    <tr>\n",
       "      <th>0</th>\n",
       "      <td>293.432128</td>\n",
       "      <td>273.572826</td>\n",
       "      <td>5.795461</td>\n",
       "      <td>0</td>\n",
       "      <td>3</td>\n",
       "      <td>1719.5874</td>\n",
       "      <td>0.782198</td>\n",
       "      <td>2</td>\n",
       "    </tr>\n",
       "    <tr>\n",
       "      <th>1</th>\n",
       "      <td>340.192583</td>\n",
       "      <td>148.802385</td>\n",
       "      <td>5.788964</td>\n",
       "      <td>1</td>\n",
       "      <td>1</td>\n",
       "      <td>1807.5992</td>\n",
       "      <td>0.837488</td>\n",
       "      <td>0</td>\n",
       "    </tr>\n",
       "    <tr>\n",
       "      <th>1</th>\n",
       "      <td>150.714541</td>\n",
       "      <td>198.939607</td>\n",
       "      <td>6.131501</td>\n",
       "      <td>1</td>\n",
       "      <td>2</td>\n",
       "      <td>1613.9227</td>\n",
       "      <td>1.030524</td>\n",
       "      <td>1</td>\n",
       "    </tr>\n",
       "    <tr>\n",
       "      <th>...</th>\n",
       "      <td>...</td>\n",
       "      <td>...</td>\n",
       "      <td>...</td>\n",
       "      <td>...</td>\n",
       "      <td>...</td>\n",
       "      <td>...</td>\n",
       "      <td>...</td>\n",
       "      <td>...</td>\n",
       "    </tr>\n",
       "    <tr>\n",
       "      <th>68</th>\n",
       "      <td>348.550197</td>\n",
       "      <td>138.355015</td>\n",
       "      <td>6.320616</td>\n",
       "      <td>68</td>\n",
       "      <td>1</td>\n",
       "      <td>2125.1348</td>\n",
       "      <td>0.809945</td>\n",
       "      <td>0</td>\n",
       "    </tr>\n",
       "    <tr>\n",
       "      <th>68</th>\n",
       "      <td>291.971954</td>\n",
       "      <td>259.952895</td>\n",
       "      <td>6.645768</td>\n",
       "      <td>68</td>\n",
       "      <td>3</td>\n",
       "      <td>2197.1904</td>\n",
       "      <td>0.930663</td>\n",
       "      <td>2</td>\n",
       "    </tr>\n",
       "    <tr>\n",
       "      <th>69</th>\n",
       "      <td>139.743351</td>\n",
       "      <td>196.803056</td>\n",
       "      <td>6.403103</td>\n",
       "      <td>69</td>\n",
       "      <td>2</td>\n",
       "      <td>1856.8396</td>\n",
       "      <td>0.933209</td>\n",
       "      <td>1</td>\n",
       "    </tr>\n",
       "    <tr>\n",
       "      <th>69</th>\n",
       "      <td>348.616482</td>\n",
       "      <td>137.863575</td>\n",
       "      <td>6.205744</td>\n",
       "      <td>69</td>\n",
       "      <td>1</td>\n",
       "      <td>2120.6223</td>\n",
       "      <td>0.858833</td>\n",
       "      <td>0</td>\n",
       "    </tr>\n",
       "    <tr>\n",
       "      <th>69</th>\n",
       "      <td>291.978179</td>\n",
       "      <td>259.281660</td>\n",
       "      <td>6.513626</td>\n",
       "      <td>69</td>\n",
       "      <td>3</td>\n",
       "      <td>2206.9374</td>\n",
       "      <td>0.915939</td>\n",
       "      <td>2</td>\n",
       "    </tr>\n",
       "  </tbody>\n",
       "</table>\n",
       "<p>210 rows × 8 columns</p>\n",
       "</div>"
      ],
      "text/plain": [
       "                x           y         z  frame  label     volume  \\\n",
       "frame                                                              \n",
       "0      340.587434  148.836281  5.341885      0      1  1839.1867   \n",
       "0      150.941229  198.194205  5.889776      0      2  1573.7073   \n",
       "0      293.432128  273.572826  5.795461      0      3  1719.5874   \n",
       "1      340.192583  148.802385  5.788964      1      1  1807.5992   \n",
       "1      150.714541  198.939607  6.131501      1      2  1613.9227   \n",
       "...           ...         ...       ...    ...    ...        ...   \n",
       "68     348.550197  138.355015  6.320616     68      1  2125.1348   \n",
       "68     291.971954  259.952895  6.645768     68      3  2197.1904   \n",
       "69     139.743351  196.803056  6.403103     69      2  1856.8396   \n",
       "69     348.616482  137.863575  6.205744     69      1  2120.6223   \n",
       "69     291.978179  259.281660  6.513626     69      3  2206.9374   \n",
       "\n",
       "       median intensity ratio  particle  \n",
       "frame                                    \n",
       "0                    0.803965         0  \n",
       "0                    1.068565         1  \n",
       "0                    0.782198         2  \n",
       "1                    0.837488         0  \n",
       "1                    1.030524         1  \n",
       "...                       ...       ...  \n",
       "68                   0.809945         0  \n",
       "68                   0.930663         2  \n",
       "69                   0.933209         1  \n",
       "69                   0.858833         0  \n",
       "69                   0.915939         2  \n",
       "\n",
       "[210 rows x 8 columns]"
      ]
     },
     "execution_count": 61,
     "metadata": {},
     "output_type": "execute_result"
    }
   ],
   "source": [
    "# Link cells between frames\n",
    "Labelled_table = tp.link_df(Segment_tracker.positions_table, 15,adaptive_stop=1, adaptive_step=2, memory=3,pos_columns=['x', 'y', 'z'])\n",
    "\n",
    "#Filter out tracks with low number of frames\n",
    "Labelled_table = tp.filter_stubs(Labelled_table, 60)\n",
    "\n",
    "Labelled_table"
   ]
  },
  {
   "cell_type": "markdown",
   "metadata": {},
   "source": [
    "### Normalize protein binding intensity ratio and add the \"normalized intensity ratio\" column to table"
   ]
  },
  {
   "cell_type": "code",
   "execution_count": 58,
   "metadata": {},
   "outputs": [
    {
     "name": "stderr",
     "output_type": "stream",
     "text": [
      "C:\\Users\\joeshen\\Anaconda3\\envs\\guv_pipeline\\lib\\site-packages\\ipykernel_launcher.py:6: SettingWithCopyWarning: \n",
      "A value is trying to be set on a copy of a slice from a DataFrame\n",
      "\n",
      "See the caveats in the documentation: https://pandas.pydata.org/pandas-docs/stable/user_guide/indexing.html#returning-a-view-versus-a-copy\n",
      "  \n"
     ]
    }
   ],
   "source": [
    "Labelled_table['normalized intensity ratio'] = Labelled_table['median intensity ratio']\n",
    "\n",
    "all_labels = Labelled_table.particle.unique()\n",
    "\n",
    "for label in all_labels:\n",
    "   Labelled_table['normalized intensity ratio'][Labelled_table.particle ==label] = Labelled_table['normalized intensity ratio'][Labelled_table.particle ==label]/Labelled_table['median intensity ratio'][Labelled_table.particle ==label][0]\n",
    "\n",
    "\n",
    "\n"
   ]
  },
  {
   "cell_type": "code",
   "execution_count": 62,
   "metadata": {},
   "outputs": [
    {
     "data": {
      "text/plain": [
       "array([[  2.        ,   0.        ,   5.3418847 , 148.83628084,\n",
       "        340.587434  ],\n",
       "       [  2.        ,   1.        ,   5.78896389, 148.80238457,\n",
       "        340.19258268],\n",
       "       [  2.        ,   2.        ,   5.72385092, 148.82109232,\n",
       "        339.76204701],\n",
       "       ...,\n",
       "       [  4.        ,  67.        ,   6.6542892 , 259.90444598,\n",
       "        291.61598508],\n",
       "       [  4.        ,  68.        ,   6.64576761, 259.95289498,\n",
       "        291.97195386],\n",
       "       [  4.        ,  69.        ,   6.51362581, 259.28165996,\n",
       "        291.97817908]])"
      ]
     },
     "execution_count": 62,
     "metadata": {},
     "output_type": "execute_result"
    }
   ],
   "source": [
    "#Add tracks\n",
    "\n",
    "Labelled_table.rename(columns = {'frame':'time'}, inplace = True)\n",
    "Labelled_table.particle += 2\n",
    "Labelled_table\n",
    "table_rev = Labelled_table[['particle','time','z','y','x']]\n",
    "\n",
    "Labelled_table\n",
    "a=table_rev.sort_values(by=['particle','time'])\n",
    "\n",
    "c = a.to_numpy()\n",
    "c"
   ]
  },
  {
   "cell_type": "markdown",
   "metadata": {},
   "source": [
    "### Make a function to modify segmentation masks and color the object based on ID. The object that does not meet minimum frames will be deleted"
   ]
  },
  {
   "cell_type": "code",
   "execution_count": 16,
   "metadata": {},
   "outputs": [],
   "source": [
    "#function to modify segmented images based on label tracks ID. Remove objects that only exist in a few frames \n",
    "def segmented_image_final_processing (tables, labelled_image):\n",
    "    new_labelled_image = np.zeros(labelled_image.shape)\n",
    "    for t in tqdm(range(0,tables.frame.max()+1)):\n",
    "        \n",
    "       Position_table_t = tables[tables.frame == t]\n",
    "       original_label = Position_table_t.label.to_list() \n",
    "       original_label = [x*1000 for x in original_label]\n",
    "       new_label = Position_table_t.particle.to_list() \n",
    "       new_label = [x+1 for x in new_label]\n",
    "       \n",
    "       label_convert = list(zip(original_label, new_label))\n",
    "            \n",
    "       labelled_image_t = labelled_image[t].copy() * 1000\n",
    "       \n",
    "       for num in np.unique(labelled_image_t):\n",
    "          if num != 0 and num not in original_label:\n",
    "             labelled_image_t[labelled_image_t == num] = 0\n",
    "       \n",
    "       for element in label_convert:\n",
    "          original = element [0]\n",
    "          new = element [1] \n",
    "          labelled_image_t[labelled_image_t == original] = new\n",
    "\n",
    "       new_labelled_image[t] = labelled_image_t\n",
    "            \n",
    "    return new_labelled_image\n",
    "                \n",
    "            \n",
    "\n",
    "            \n"
   ]
  },
  {
   "cell_type": "code",
   "execution_count": 17,
   "metadata": {},
   "outputs": [
    {
     "name": "stderr",
     "output_type": "stream",
     "text": [
      "100%|██████████████████████████████████████████| 70/70 [00:25<00:00,  2.73it/s]\n"
     ]
    }
   ],
   "source": [
    "# Change images based on new labels\n",
    "\n",
    "labelled_segmented_image = segmented_image_final_processing(Labelled_table, track.segmented_object_image)"
   ]
  },
  {
   "cell_type": "markdown",
   "metadata": {},
   "source": [
    "## Visualize in Napari"
   ]
  },
  {
   "cell_type": "code",
   "execution_count": 63,
   "metadata": {},
   "outputs": [],
   "source": [
    "# Visualize Final Result\n",
    "viewer = napari.Viewer()\n",
    "viewer.add_image(image, scale = [1,5,1,1])\n",
    "viewer.add_image(Segment_tracker.mid_slice_stack,name='Mid Plane', scale = [1,5,1,1])\n",
    "#viewer.add_labels(labelled_segmented_image, name='Segmentation with ID', scale=[1,5,1,1])\n",
    "viewer.add_tracks(c,name=\"Tracks\",scale=[1,5,1,1])\n",
    "viewer.add_image(track.watershed_map_list,name='Distance Map', scale = [1,5,1,1])\n",
    "viewer.add_image(track.segmented_object_image>0 ,name='Segmented Object', scale = [1,5,1,1])\n",
    "peaks = np.nonzero(track.seed_map_list)\n",
    "viewer.add_points(np.array(peaks).T, name='peaks', size=5, face_color='red',scale=[1,5,1,1]);"
   ]
  },
  {
   "cell_type": "markdown",
   "metadata": {},
   "source": [
    "## Plot Data (e.g. Volume, Protein binding)\n"
   ]
  },
  {
   "cell_type": "code",
   "execution_count": 13,
   "metadata": {},
   "outputs": [
    {
     "data": {
      "image/png": "[encoded data removed]",
      "text/plain": [
       "<Figure size 1152x864 with 1 Axes>"
      ]
     },
     "metadata": {
      "needs_background": "light"
     },
     "output_type": "display_data"
    }
   ],
   "source": [
    "# Plot volume for all objects (cells)\n",
    "all_labels = Labelled_table.particle.unique()\n",
    "\n",
    "for label in all_labels:\n",
    "   df_subset = Labelled_table[Labelled_table.particle == label]\n",
    "   plt.plot(df_subset[\"frame\"],df_subset[\"volume\"])"
   ]
  },
  {
   "cell_type": "code",
   "execution_count": 34,
   "metadata": {},
   "outputs": [
    {
     "data": {
      "image/png": "[encoded data removed]",
      "text/plain": [
       "<Figure size 1152x864 with 1 Axes>"
      ]
     },
     "metadata": {
      "needs_background": "light"
     },
     "output_type": "display_data"
    }
   ],
   "source": [
    "# Plot normalized intensity for all objects (cells)\n",
    "all_labels = Labelled_table1.particle.unique()\n",
    "\n",
    "for label in all_labels:\n",
    "   df_subset = Labelled_table1[Labelled_table1.particle == label]\n",
    "   plt.plot(df_subset[\"frame\"],df_subset[\"normalized intensity ratio\"])"
   ]
  },
  {
   "cell_type": "code",
   "execution_count": 33,
   "metadata": {},
   "outputs": [],
   "source": [
    "#Labelled_table1 = Labelled_table[Labelled_table[Labelled_table.particle == 0]]\n",
    "Labelled_table1 = Labelled_table[Labelled_table.particle != 0]\n",
    "#Labelled_table1"
   ]
  },
  {
   "cell_type": "markdown",
   "metadata": {},
   "source": [
    "## Save data and table"
   ]
  },
  {
   "cell_type": "code",
   "execution_count": 71,
   "metadata": {},
   "outputs": [],
   "source": [
    "# Save data to hdf5\n",
    "File_save_names = '/Users/zhouyangshen/Desktop/Python_Nucleus_Segmentation/75_hypotonic_shock'\n",
    "seg_save_name='{File_Name}_segmentation_result.hdf5'.format(File_Name = File_save_names)\n",
    "\n",
    "with h5py.File(seg_save_name, \"w\") as f:\n",
    "      f.create_dataset('Mid Plane', data = Segment_tracker.mid_slice_stack, compression = 'gzip')\n",
    "      f.create_dataset('Segmented Object', data = track.segmented_object_image, compression = 'gzip')\n",
    "      f.create_dataset('Segmentation with ID', data = labelled_segmented_image, compression = 'gzip')\n",
    "      f.create_dataset('Distance Map', data = track.watershed_map_list, compression = 'gzip')\n",
    "      f.create_dataset('Seed Map', data = track.seed_map_list, compression = 'gzip')\n",
    "      f.create_dataset('Normalized and Smooth Image', data = track.structure_img_smooth, compression = 'gzip')\n"
   ]
  },
  {
   "cell_type": "code",
   "execution_count": 73,
   "metadata": {},
   "outputs": [],
   "source": [
    "# Save table to csv\n",
    "table_save_name = '{File_Name}_statistic_result.csv'.format(File_Name = File_save_names)\n",
    "\n",
    "Labelled_table.to_csv(table_save_name,index=False)"
   ]
  },
  {
   "cell_type": "code",
   "execution_count": null,
   "metadata": {},
   "outputs": [],
   "source": []
  }
 ],
 "metadata": {
  "kernelspec": {
   "display_name": "Python 3",
   "language": "python",
   "name": "python3"
  },
  "language_info": {
   "codemirror_mode": {
    "name": "ipython",
    "version": 3
   },
   "file_extension": ".py",
   "mimetype": "text/x-python",
   "name": "python",
   "nbconvert_exporter": "python",
   "pygments_lexer": "ipython3",
   "version": "3.7.6"
  }
 },
 "nbformat": 4,
 "nbformat_minor": 2
}
